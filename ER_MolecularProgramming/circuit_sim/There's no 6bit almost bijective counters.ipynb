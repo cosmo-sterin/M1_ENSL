{
 "cells": [
  {
   "cell_type": "code",
   "execution_count": 1,
   "metadata": {
    "collapsed": true
   },
   "outputs": [],
   "source": [
    "def has_4x16(c, outputing_f):\n",
    "    seen_2b = {}\n",
    "    for seq_6b in all6b:\n",
    "        out = outputing_f(c,seq_6b)\n",
    "        if not out in seen_2b:\n",
    "            seen_2b[out] = 0\n",
    "        seen_2b[out] += 1\n",
    "    if len(seen_2b) == 4:\n",
    "        for seq_2b in seen_2b:\n",
    "            if seen_2b[seq_2b] != 16:\n",
    "                return False\n",
    "        return True\n",
    "    return False"
   ]
  },
  {
   "cell_type": "code",
   "execution_count": 2,
   "metadata": {
    "collapsed": false
   },
   "outputs": [
    {
     "name": "stdout",
     "output_type": "stream",
     "text": [
      "00 16\n",
      "01 16\n",
      "10 16\n",
      "11 16\n"
     ]
    }
   ],
   "source": [
    "import itertools\n",
    "all6b = list(itertools.product([0,1],repeat=6))\n",
    "count_first2b = {}\n",
    "for seq in all6b:\n",
    "    seq_str2b = str(seq[0])+str(seq[1])\n",
    "    if not seq_str2b in count_first2b:\n",
    "        count_first2b[seq_str2b] = 0\n",
    "    count_first2b[seq_str2b] += 1\n",
    "for seq_2b in count_first2b:\n",
    "    print(seq_2b + \" \" + str(count_first2b[seq_2b]))"
   ]
  },
  {
   "cell_type": "code",
   "execution_count": 3,
   "metadata": {
    "collapsed": false
   },
   "outputs": [
    {
     "name": "stdout",
     "output_type": "stream",
     "text": [
      "16384\n",
      "Example of circuit on x3 x4 x5: (('0', '0', '0', '0'), ('00', '00', '00', '00'), ('0', '0'))\n"
     ]
    }
   ],
   "source": [
    "# This function gives the list of all networks\n",
    "# inputing x3 x4 x5 and processing for 2 bits output\n",
    "def list_all_circuits_2b_x345():\n",
    "    all_g5D = list(itertools.product(['0','1'],repeat=4))\n",
    "    all_g6 = list(itertools.product(['00','01','10','11'],repeat=4))\n",
    "    all_g7 = list(itertools.product(['0','1'],repeat=2))\n",
    "    all_circuits2b_x345 = list(itertools.product(all_g5D,all_g6,all_g7))\n",
    "    return all_circuits2b_x345\n",
    "all_2bc_x345 = list_all_circuits_2b_x345()\n",
    "print(len(all_2bc_x345))\n",
    "print(\"Example of circuit on x3 x4 x5: \"+str(all_2bc_x345[0]))"
   ]
  },
  {
   "cell_type": "code",
   "execution_count": 4,
   "metadata": {
    "collapsed": true
   },
   "outputs": [],
   "source": [
    "# Given a 2 bits circuit c and an input x\n",
    "# the following function computes the circuit's output\n",
    "def output_of_2b_x345(c,x):  \n",
    "    output_g5D = int(c[0][2*x[3]+x[4]])\n",
    "    output_g7 = int(c[2][x[5]])\n",
    "    output_g6 = c[1][2*output_g5D+output_g7]\n",
    "    return output_g6"
   ]
  },
  {
   "cell_type": "code",
   "execution_count": 5,
   "metadata": {
    "collapsed": false
   },
   "outputs": [],
   "source": [
    "all_4x16_x345 = []\n",
    "for c in all_2bc_x345:\n",
    "    if has_4x16(c,output_of_2b_x345):\n",
    "        all_4x16_x345.append(c)"
   ]
  },
  {
   "cell_type": "code",
   "execution_count": 6,
   "metadata": {
    "collapsed": false
   },
   "outputs": [
    {
     "name": "stdout",
     "output_type": "stream",
     "text": [
      "There are 288 4x16 2b circuits on x3, x4, x5\n"
     ]
    }
   ],
   "source": [
    "print(\"There are \"+str(len(all_4x16_x345))+\" 4x16 2b circuits on x3, x4, x5\")"
   ]
  },
  {
   "cell_type": "code",
   "execution_count": 7,
   "metadata": {
    "collapsed": false
   },
   "outputs": [
    {
     "name": "stdout",
     "output_type": "stream",
     "text": [
      "It remains 72 circuits on x3, x4, x5 with 4x16 prop.\n"
     ]
    }
   ],
   "source": [
    "unique_4x16_x345 = {}\n",
    "for c in all_4x16_x345:\n",
    "    all3b = itertools.product([0,1],repeat=3)\n",
    "    r = \"\"\n",
    "    for seq_3b in all3b:\n",
    "        r += output_of_2b_x345(c,(0,0,0)+seq_3b)\n",
    "    unique_4x16_x345[r] = c\n",
    "good_4x16_x345 = []\n",
    "for r in unique_4x16_x345:\n",
    "    good_4x16_x345.append(unique_4x16_x345[r])\n",
    "print(\"It remains \"+str(len(good_4x16_x345))+\" circuits on x3, x4, x5 with 4x16 prop.\")"
   ]
  },
  {
   "cell_type": "code",
   "execution_count": 8,
   "metadata": {
    "collapsed": false
   },
   "outputs": [],
   "source": [
    "def has_2x161517(c, outputing_f):\n",
    "    seen_2b = {}\n",
    "    for seq_6b in all6b:\n",
    "        out = outputing_f(c,seq_6b)\n",
    "        if not out in seen_2b:\n",
    "            seen_2b[out] = 0\n",
    "        seen_2b[out] += 1\n",
    "    if len(seen_2b) == 4:\n",
    "        to_sort = []\n",
    "        for seq_2b in seen_2b:\n",
    "            to_sort.append(seen_2b[seq_2b])\n",
    "        to_sort.sort()\n",
    "        if to_sort == [15,16,16,17]:\n",
    "            return True\n",
    "    return False"
   ]
  },
  {
   "cell_type": "markdown",
   "metadata": {},
   "source": [
    "# x012"
   ]
  },
  {
   "cell_type": "code",
   "execution_count": 9,
   "metadata": {
    "collapsed": false
   },
   "outputs": [
    {
     "name": "stdout",
     "output_type": "stream",
     "text": [
      "Example of circuit on x1 x2 x3: (('0', '0'), ('00', '00', '00', '00'), ('0', '0', '0', '0'))\n"
     ]
    }
   ],
   "source": [
    "# This function gives the list of all networks\n",
    "# inputing x0 x1 x2 and processing for 2 bits output\n",
    "def list_all_circuits_2b_x012():\n",
    "    all_g1 = list(itertools.product(['0','1'],repeat=2))\n",
    "    all_g2 = list(itertools.product(['00','01','10','11'],repeat=4))\n",
    "    all_g3U = list(itertools.product(['0','1'],repeat=4))\n",
    "    all_circuits2b_x012 = list(itertools.product(all_g1,all_g2,all_g3U))\n",
    "    return all_circuits2b_x012\n",
    "all_2bc_x012 = list_all_circuits_2b_x012()\n",
    "print(\"Example of circuit on x1 x2 x3: \"+str(all_2bc_x012[0]))"
   ]
  },
  {
   "cell_type": "code",
   "execution_count": 10,
   "metadata": {
    "collapsed": true
   },
   "outputs": [],
   "source": [
    "# Given a 2 bits circuit c and an input x\n",
    "# the following function computes the circuit's output\n",
    "def output_of_2b_x012(c,x):  \n",
    "    output_g1 = int(c[0][x[0]])\n",
    "    output_g3U = int(c[2][2*x[1]+x[2]])\n",
    "    output_g2 = c[1][2*output_g1+output_g3U]\n",
    "    return output_g2"
   ]
  },
  {
   "cell_type": "code",
   "execution_count": 14,
   "metadata": {
    "collapsed": false
   },
   "outputs": [
    {
     "name": "stdout",
     "output_type": "stream",
     "text": [
      "It remains 1696 circuits.\n"
     ]
    }
   ],
   "source": [
    "unique_2bc_x012 = {}\n",
    "for c in all_2bc_x012:\n",
    "    all3b = itertools.product([0,1],repeat=3)\n",
    "    r = \"\"\n",
    "    for seq_3b in all3b:\n",
    "        r += output_of_2b_x012(c,seq_3b)\n",
    "    unique_2bc_x012[r] = c\n",
    "good_2bc_x012 = []\n",
    "for r in unique_2bc_x012:\n",
    "    good_2bc_x012.append(unique_2bc_x012[r])\n",
    "print(\"It remains \"+str(len(good_2bc_x012))+\" circuits.\")"
   ]
  },
  {
   "cell_type": "code",
   "execution_count": 13,
   "metadata": {
    "collapsed": false
   },
   "outputs": [
    {
     "name": "stdout",
     "output_type": "stream",
     "text": [
      "0\n"
     ]
    }
   ],
   "source": [
    "good_2x161517_x012 = []\n",
    "for c in good_2bc_x012:\n",
    "    if has_2x161517(c,output_of_2b_x012):\n",
    "        good_2x161517_x012.append(c)\n",
    "print(len(good_2x161517_x012))"
   ]
  },
  {
   "cell_type": "markdown",
   "metadata": {},
   "source": [
    "# x345"
   ]
  },
  {
   "cell_type": "code",
   "execution_count": 15,
   "metadata": {
    "collapsed": false
   },
   "outputs": [],
   "source": [
    "all_2x161517_x345 = []\n",
    "for c in all_2bc_x345:\n",
    "    if has_2x161517(c,output_of_2b_x345):\n",
    "        all_2x161517_x345.append(c)"
   ]
  },
  {
   "cell_type": "code",
   "execution_count": 16,
   "metadata": {
    "collapsed": false
   },
   "outputs": [
    {
     "name": "stdout",
     "output_type": "stream",
     "text": [
      "There are 0 4x16 2b circuits on x3, x4, x5\n"
     ]
    }
   ],
   "source": [
    "print(\"There are \"+str(len(all_2x161517_x345))+\" 4x16 2b circuits on x3, x4, x5\")"
   ]
  },
  {
   "cell_type": "code",
   "execution_count": 11,
   "metadata": {
    "collapsed": false
   },
   "outputs": [
    {
     "name": "stdout",
     "output_type": "stream",
     "text": [
      "It remains 72 circuits on x3, x4, x5 with 4x16 prop.\n"
     ]
    }
   ],
   "source": [
    "unique_2x161517_x345 = {}\n",
    "for c in all_2x161517_x345:\n",
    "    all3b = itertools.product([0,1],repeat=3)\n",
    "    r = \"\"\n",
    "    for seq_3b in all3b:\n",
    "        r += output_of_2b_x345(c,(0,0,0)+seq_3b)\n",
    "    unique_2x161517_x345[r] = c\n",
    "good_2x161517_x345 = []\n",
    "for r in unique_2x161517_x345:\n",
    "    good_2x161517_x345.append(unique_2x161517_x345[r])\n",
    "print(\"It remains \"+str(len(good_2x161517_x345))+\" circuits on x3, x4, x5 with 4x16 prop.\")"
   ]
  },
  {
   "cell_type": "markdown",
   "metadata": {},
   "source": [
    "# x1x2x3x4"
   ]
  },
  {
   "cell_type": "code",
   "execution_count": 17,
   "metadata": {
    "collapsed": false
   },
   "outputs": [
    {
     "name": "stdout",
     "output_type": "stream",
     "text": [
      "There are 65536 circuits on x1,x2,x3,x4\n"
     ]
    }
   ],
   "source": [
    "# This function gives the list of all networks\n",
    "# inputing x3 x4 x5 and processing for 2 bits output\n",
    "def list_all_circuits_2b_x1234():\n",
    "    all_g3D = list(itertools.product(['0','1'],repeat=4))\n",
    "    all_g4 = list(itertools.product(['00','01','10','11'],repeat=4))\n",
    "    all_g5U = list(itertools.product(['0','1'],repeat=4))\n",
    "    all_circuits2b_x1234 = list(itertools.product(all_g3D,all_g4,all_g5U))\n",
    "    return all_circuits2b_x1234\n",
    "all_2bc_x1234 = list_all_circuits_2b_x1234()\n",
    "print(\"There are \"+str(len(all_2bc_x1234))+\" circuits on x1,x2,x3,x4\")"
   ]
  },
  {
   "cell_type": "code",
   "execution_count": 18,
   "metadata": {
    "collapsed": true
   },
   "outputs": [],
   "source": [
    "# Given a 2 bits circuit c and an input x\n",
    "# the following function computes the circuit's output\n",
    "def output_of_2b_x1234(c,x):  \n",
    "    output_g3D = int(c[0][2*x[1]+x[2]])\n",
    "    output_g5U = int(c[2][2*x[3]+x[4]])\n",
    "    output_g4 = c[1][2*output_g3D+output_g5U]\n",
    "    return output_g4"
   ]
  },
  {
   "cell_type": "code",
   "execution_count": 19,
   "metadata": {
    "collapsed": false
   },
   "outputs": [
    {
     "name": "stdout",
     "output_type": "stream",
     "text": [
      "It remains 11344 circuits on x1, x2, x3, x4.\n"
     ]
    }
   ],
   "source": [
    "unique_x1234 = {}\n",
    "for c in all_2bc_x1234:\n",
    "    all4b = itertools.product([0,1],repeat=4)\n",
    "    r = \"\"\n",
    "    for seq_4b in all4b:\n",
    "        r += output_of_2b_x1234(c,(0,seq_4b[0],seq_4b[1],seq_4b[2],seq_4b[3],0))\n",
    "    unique_x1234[r] = c\n",
    "good_x1234 = []\n",
    "for r in unique_x1234:\n",
    "    good_x1234.append(unique_x1234[r])\n",
    "print(\"It remains \"+str(len(good_x1234))+\" circuits on x1, x2, x3, x4.\")"
   ]
  },
  {
   "cell_type": "code",
   "execution_count": 20,
   "metadata": {
    "collapsed": true
   },
   "outputs": [],
   "source": [
    "good_2x161517_x1234 = []\n",
    "for c in good_x1234:\n",
    "    if has_2x161517(c,output_of_2b_x1234):\n",
    "        good_2x161517_x1234.append(c)"
   ]
  },
  {
   "cell_type": "code",
   "execution_count": 21,
   "metadata": {
    "collapsed": false
   },
   "outputs": [
    {
     "name": "stdout",
     "output_type": "stream",
     "text": [
      "There are 0 circuits on x1, x2, x3, x4 with 4x16 prop.\n"
     ]
    }
   ],
   "source": [
    "print(\"There are \"+str(len(good_2x161517_x1234))+\" circuits on x1, x2, x3, x4 with 4x16 prop.\")"
   ]
  },
  {
   "cell_type": "code",
   "execution_count": 22,
   "metadata": {
    "collapsed": false
   },
   "outputs": [
    {
     "name": "stdout",
     "output_type": "stream",
     "text": [
      "24\n"
     ]
    }
   ],
   "source": [
    "good_4x16_x012 = []\n",
    "for c in good_2bc_x012:\n",
    "    if has_4x16(c,output_of_2b_x012):\n",
    "        good_4x16_x012.append(c)\n",
    "print(len(good_4x16_x012))"
   ]
  },
  {
   "cell_type": "code",
   "execution_count": null,
   "metadata": {
    "collapsed": true
   },
   "outputs": [],
   "source": []
  },
  {
   "cell_type": "markdown",
   "metadata": {},
   "source": [
    "# Overall mixture"
   ]
  },
  {
   "cell_type": "code",
   "execution_count": 36,
   "metadata": {
    "collapsed": true
   },
   "outputs": [],
   "source": [
    "all_eligible_c = list(itertools.product(good_2x161517_x012,good_2x161517_x1234,good_2x161517_x345))"
   ]
  },
  {
   "cell_type": "code",
   "execution_count": 40,
   "metadata": {
    "collapsed": false
   },
   "outputs": [
    {
     "name": "stdout",
     "output_type": "stream",
     "text": [
      "497664\n"
     ]
    }
   ],
   "source": [
    "print(len(all_eligible_c))"
   ]
  },
  {
   "cell_type": "code",
   "execution_count": 38,
   "metadata": {
    "collapsed": false
   },
   "outputs": [],
   "source": [
    "def output_of_6bc(c,x):\n",
    "    x = (int(x[0]),int(x[1]),int(x[2]),int(x[3]),int(x[4]),int(x[5]))\n",
    "    g1 = c[0][0]\n",
    "    g2 = c[0][1]\n",
    "    g3U = c[0][2]\n",
    "    g3D = c[1][0]\n",
    "    g4 = c[1][1]\n",
    "    g5U = c[1][2]\n",
    "    g5D = c[2][0]\n",
    "    g6 = c[2][1]\n",
    "    g7 = c[2][2]\n",
    "    output_g1 = int(g1[x[0]])\n",
    "    output_g3U = int(g3U[2*x[1]+x[2]])\n",
    "    output_g3D = int(g3D[2*x[1]+x[2]])\n",
    "    output_g5U = int(g5U[2*x[3]+x[4]])\n",
    "    output_g5D = int(g5D[2*x[3]+x[4]])\n",
    "    output_g7 = int(g7[x[5]])\n",
    "    #print(g7)\n",
    "    #print(output_g1)\n",
    "    #print(output_g3U)\n",
    "    #print(output_g3D)\n",
    "    #print(output_g5U)\n",
    "    #print(output_g5D)\n",
    "    #print(output_g7)\n",
    "    #print(g5U)\n",
    "    #print(g5D)\n",
    "    \n",
    "    output_g2 = g2[2*output_g1+output_g3U]\n",
    "    output_g4 = g4[2*output_g3D+output_g5U]\n",
    "    output_g6 = g6[2*output_g5D+output_g7]\n",
    "    #print(\"ooo\"+str(g6))\n",
    "    \n",
    "    return output_g2+output_g4+output_g6"
   ]
  },
  {
   "cell_type": "code",
   "execution_count": 45,
   "metadata": {
    "collapsed": false
   },
   "outputs": [],
   "source": [
    "how_many_sees = {}\n",
    "c63 = []\n",
    "for c in all_eligible_c:\n",
    "    seen = {}\n",
    "    for seq_6b in all6b:\n",
    "        out = output_of_6bc(c,seq_6b)\n",
    "        seen[out] = 1\n",
    "    how_many_sees[len(seen)] = c\n",
    "    if len(seen) == 63:\n",
    "        c63.append(c)"
   ]
  },
  {
   "cell_type": "code",
   "execution_count": 43,
   "metadata": {
    "collapsed": false
   },
   "outputs": [
    {
     "data": {
      "text/plain": [
       "{16: ((('1', '0'), ('01', '00', '10', '11'), ('1', '1', '0', '0')),\n",
       "  (('1', '1', '0', '0'), ('01', '00', '10', '11'), ('1', '1', '0', '0')),\n",
       "  (('1', '1', '0', '0'), ('01', '00', '10', '11'), ('1', '0'))),\n",
       " 32: ((('1', '0'), ('01', '00', '10', '11'), ('1', '1', '0', '0')),\n",
       "  (('1', '0', '0', '1'), ('01', '00', '10', '11'), ('1', '1', '0', '0')),\n",
       "  (('1', '1', '0', '0'), ('01', '00', '10', '11'), ('1', '0'))),\n",
       " 63: ((('1', '0'), ('01', '00', '10', '11'), ('1', '1', '0', '0')),\n",
       "  (('1', '0', '0', '1'), ('01', '00', '10', '11'), ('1', '1', '0', '0')),\n",
       "  (('1', '0', '0', '1'), ('01', '00', '10', '11'), ('1', '0')))}"
      ]
     },
     "execution_count": 43,
     "metadata": {},
     "output_type": "execute_result"
    }
   ],
   "source": [
    "how_many_sees"
   ]
  },
  {
   "cell_type": "code",
   "execution_count": 46,
   "metadata": {
    "collapsed": false
   },
   "outputs": [
    {
     "name": "stdout",
     "output_type": "stream",
     "text": [
      "165888\n"
     ]
    }
   ],
   "source": [
    "print(len(c63))"
   ]
  },
  {
   "cell_type": "code",
   "execution_count": 47,
   "metadata": {
    "collapsed": true
   },
   "outputs": [],
   "source": [
    "def to_dec(seq_6b):\n",
    "    r = 0\n",
    "    for (i,b) in enumerate(seq_6b):\n",
    "        r += int(b)*(2**i)\n",
    "    return r\n",
    "\n",
    "def how_many_orbits(c,p=False,o_size=[]):\n",
    "    nb_o = 0\n",
    "    seen_x = {}\n",
    "    \n",
    "    for seq_6b in all6b:\n",
    "        curr_state = seq_6b\n",
    "        k = 0\n",
    "        while not to_dec(curr_state) in seen_x:\n",
    "            if k==0:\n",
    "                #print(\"orbite\")\n",
    "                nb_o +=1\n",
    "            k += 1     \n",
    "            seen_x[to_dec(curr_state)] = 1\n",
    "            curr_state = output_of_6bc(c,curr_state)\n",
    "        if p and k != 0:\n",
    "            o_size.append((curr_state,k))\n",
    "    return nb_o"
   ]
  },
  {
   "cell_type": "code",
   "execution_count": 48,
   "metadata": {
    "collapsed": false
   },
   "outputs": [
    {
     "name": "stdout",
     "output_type": "stream",
     "text": [
      "47\n",
      "32\n",
      "39\n",
      "40\n",
      "16\n",
      "24\n",
      "23\n",
      "27\n",
      "28\n",
      "12\n",
      "11\n",
      "31\n",
      "15\n",
      "20\n",
      "8\n",
      "7\n",
      "48\n",
      "4\n",
      "3\n",
      "21\n",
      "22\n",
      "14\n",
      "6\n",
      "5\n",
      "13\n",
      "19\n",
      "18\n",
      "17\n",
      "10\n",
      "9\n",
      "2\n",
      "1\n",
      "35\n",
      "36\n"
     ]
    }
   ],
   "source": [
    "orbits = {}\n",
    "for c in c63:\n",
    "    no = how_many_orbits(c)\n",
    "    if not no in orbits:\n",
    "        orbits[no] = []\n",
    "        print(no)\n",
    "    orbits[no].append(c)"
   ]
  },
  {
   "cell_type": "code",
   "execution_count": 49,
   "metadata": {
    "collapsed": false
   },
   "outputs": [
    {
     "name": "stdout",
     "output_type": "stream",
     "text": [
      "24\n"
     ]
    }
   ],
   "source": [
    "print(len(orbits[1]))"
   ]
  },
  {
   "cell_type": "code",
   "execution_count": 50,
   "metadata": {
    "collapsed": true
   },
   "outputs": [],
   "source": [
    "def circuit_to_c(c):\n",
    "    print(c[0][0][0]+c[0][0][1])\n",
    "    print(c[0][1][0]+c[0][1][1]+c[0][1][2]+c[0][1][3])\n",
    "    r = \"\"\n",
    "    for i in range(4):\n",
    "        r += c[0][2][i]+c[1][0][i]\n",
    "    print(r)\n",
    "    print(c[1][1][0]+c[1][1][1]+c[1][1][2]+c[1][1][3])\n",
    "    r = \"\"\n",
    "    for i in range(4):\n",
    "        r += c[1][2][i]+c[2][0][i]\n",
    "    print(r)\n",
    "    print(c[2][1][0]+c[2][1][1]+c[2][1][2]+c[2][1][3])\n",
    "    print(c[2][2][0]+c[2][2][1])"
   ]
  },
  {
   "cell_type": "code",
   "execution_count": 51,
   "metadata": {
    "collapsed": false
   },
   "outputs": [
    {
     "name": "stdout",
     "output_type": "stream",
     "text": [
      "10\n",
      "11011000\n",
      "11010010\n",
      "11011000\n",
      "11001001\n",
      "11001001\n",
      "01\n",
      "10\n",
      "11011000\n",
      "11010010\n",
      "11010010\n",
      "01110010\n",
      "10000111\n",
      "10\n",
      "10\n",
      "11011000\n",
      "11010010\n",
      "11010010\n",
      "01100011\n",
      "10000111\n",
      "10\n",
      "10\n",
      "11011000\n",
      "11010010\n",
      "11010010\n",
      "01111000\n",
      "11001001\n",
      "01\n",
      "10\n",
      "11011000\n",
      "11010010\n",
      "10011100\n",
      "11011000\n",
      "11001001\n",
      "01\n",
      "10\n",
      "11011000\n",
      "11010010\n",
      "10011100\n",
      "11011000\n",
      "10001101\n",
      "01\n",
      "10\n",
      "11011000\n",
      "11010010\n",
      "10011100\n",
      "11001001\n",
      "11001001\n",
      "01\n",
      "10\n",
      "11011000\n",
      "11010010\n",
      "10011100\n",
      "11010010\n",
      "10000111\n",
      "10\n",
      "10\n",
      "11010010\n",
      "01111000\n",
      "11011000\n",
      "11011000\n",
      "10000111\n",
      "10\n",
      "10\n",
      "11010010\n",
      "01111000\n",
      "11011000\n",
      "11001001\n",
      "10001101\n",
      "01\n",
      "10\n",
      "11010010\n",
      "01111000\n",
      "11010010\n",
      "01100011\n",
      "11001001\n",
      "01\n",
      "10\n",
      "11010010\n",
      "01111000\n",
      "11010010\n",
      "01100011\n",
      "10001101\n",
      "01\n",
      "10\n",
      "11010010\n",
      "01111000\n",
      "11010010\n",
      "01111000\n",
      "11001001\n",
      "01\n",
      "10\n",
      "11010010\n",
      "01111000\n",
      "10011100\n",
      "11011000\n",
      "10000111\n",
      "10\n",
      "10\n",
      "11010010\n",
      "01111000\n",
      "10011100\n",
      "11001001\n",
      "11001001\n",
      "01\n",
      "10\n",
      "11010010\n",
      "01111000\n",
      "10011100\n",
      "11010010\n",
      "10001101\n",
      "01\n",
      "10\n",
      "10011100\n",
      "11010010\n",
      "11011000\n",
      "11011000\n",
      "10001101\n",
      "01\n",
      "10\n",
      "10011100\n",
      "11010010\n",
      "11010010\n",
      "01110010\n",
      "10000111\n",
      "10\n",
      "10\n",
      "10011100\n",
      "11010010\n",
      "11010010\n",
      "01100011\n",
      "10000111\n",
      "10\n",
      "10\n",
      "10011100\n",
      "11010010\n",
      "11010010\n",
      "01111000\n",
      "10001101\n",
      "01\n",
      "10\n",
      "10011100\n",
      "11010010\n",
      "11010010\n",
      "01111000\n",
      "10000111\n",
      "10\n",
      "10\n",
      "10011100\n",
      "11010010\n",
      "10011100\n",
      "11011000\n",
      "10000111\n",
      "10\n",
      "10\n",
      "10011100\n",
      "11010010\n",
      "10011100\n",
      "11001001\n",
      "10001101\n",
      "01\n",
      "10\n",
      "10011100\n",
      "11010010\n",
      "10011100\n",
      "11001001\n",
      "10000111\n",
      "10\n"
     ]
    }
   ],
   "source": [
    "for c in orbits[1]:\n",
    "    circuit_to_c(c)"
   ]
  },
  {
   "cell_type": "code",
   "execution_count": null,
   "metadata": {
    "collapsed": true
   },
   "outputs": [],
   "source": []
  }
 ],
 "metadata": {
  "kernelspec": {
   "display_name": "Python 3",
   "language": "python",
   "name": "python3"
  },
  "language_info": {
   "codemirror_mode": {
    "name": "ipython",
    "version": 3
   },
   "file_extension": ".py",
   "mimetype": "text/x-python",
   "name": "python",
   "nbconvert_exporter": "python",
   "pygments_lexer": "ipython3",
   "version": "3.6.0"
  }
 },
 "nbformat": 4,
 "nbformat_minor": 2
}
