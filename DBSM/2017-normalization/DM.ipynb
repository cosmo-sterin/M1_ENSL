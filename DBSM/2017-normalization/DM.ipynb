{
 "cells": [
  {
   "cell_type": "code",
   "execution_count": 17,
   "metadata": {
    "collapsed": true
   },
   "outputs": [],
   "source": [
    "import sys\n",
    "DEBUG = True"
   ]
  },
  {
   "cell_type": "code",
   "execution_count": 99,
   "metadata": {
    "collapsed": false
   },
   "outputs": [],
   "source": [
    "def set_to_str(s):\n",
    "    to_return = ''\n",
    "    for (i,A) in enumerate(s):\n",
    "        to_return += str(A)\n",
    "        if i != len(s)-1:\n",
    "            to_return += ' '\n",
    "    return to_return\n",
    "\n",
    "class FD:\n",
    "    # A FD consists in two sets of attributes\n",
    "    # 'left -> right'\n",
    "    def __init__(self, left_p = [], right_p = []):\n",
    "        self.left = set(left_p)\n",
    "        self.right = set(right_p)\n",
    "    \n",
    "    def __repr__(self):\n",
    "        return set_to_str(self.left)+' -> '+set_to_str(self.right)\n",
    "\n",
    "# Check if an input row is a comment\n",
    "def is_comment(row):\n",
    "    return len(row.split('#')) > 1\n",
    "    \n",
    "\n",
    "# Input from a file or stdin (if file_name = '')\n",
    "def read_input(sigma, file_name = ''):\n",
    "    if file_name != '':\n",
    "        f = open(file_name,\"r\")\n",
    "    else:\n",
    "        f = sys.stdin\n",
    "        \n",
    "    raw_data = f.read()\n",
    "    if f is not sys.stdin:\n",
    "        f.close()\n",
    "    \n",
    "    # Split by lines\n",
    "    data = raw_data.split('\\n')\n",
    "    # Remove empty lines\n",
    "    data = list(filter(lambda x: x != '', data))\n",
    "    \n",
    "    for row in data:\n",
    "        if not is_comment(row):\n",
    "            arrow_split = row.split('->')\n",
    "            \n",
    "            # At this point only data of the form\n",
    "            # A B C -> D E\n",
    "            assert(len(arrow_split) == 2)\n",
    "            \n",
    "            left_side = arrow_split[0]\n",
    "            right_side = arrow_split[1]\n",
    "            \n",
    "            # Get nice lists\n",
    "            # e.g: A B C -> D E becomes\n",
    "            # ['A','B','C'] and ['D','E']\n",
    "            left_split = list(filter(lambda x: x != '', left_side.split(' ')))\n",
    "            right_split = list(filter(lambda x: x != '', right_side.split(' ')))\n",
    "            \n",
    "            # Constructing the associated FD\n",
    "            FD_to_add = FD(left_split,right_split)\n",
    "            \n",
    "            if DEBUG:\n",
    "                print('Adding the FD:',FD_to_add, 'to Sigma')\n",
    "            \n",
    "            # Add the FD to sigma\n",
    "            sigma.append(FD(left_split,right_split))        "
   ]
  },
  {
   "cell_type": "code",
   "execution_count": 100,
   "metadata": {
    "collapsed": false
   },
   "outputs": [
    {
     "name": "stdout",
     "output_type": "stream",
     "text": [
      "Adding the FD:  -> A to Sigma\n",
      "Adding the FD: B A -> C to Sigma\n"
     ]
    }
   ],
   "source": [
    "sigma = []\n",
    "read_input(sigma,'custom_examples/closure_improved_testNonStandard.txt')"
   ]
  },
  {
   "cell_type": "code",
   "execution_count": 39,
   "metadata": {
    "collapsed": false
   },
   "outputs": [],
   "source": [
    "# Naive closure algorithm\n",
    "# With sigma a list of FDs and X a set of attributes\n",
    "def closure_naive(sigma, X):\n",
    "    closure = set(X)\n",
    "    done = False\n",
    "    while not done:\n",
    "        done = True\n",
    "        for fd in sigma:\n",
    "            W,Z = fd.left,fd.right\n",
    "            # <= overloads the 'issubset' operation\n",
    "            if W <= closure and not (Z <= closure):\n",
    "                # | overloads the 'union' operation\n",
    "                closure = closure | Z\n",
    "                done = False\n",
    "    return closure"
   ]
  },
  {
   "cell_type": "code",
   "execution_count": 108,
   "metadata": {
    "collapsed": false
   },
   "outputs": [],
   "source": [
    "# Auxiliary function for the improved\n",
    "# closure algorithm\n",
    "# With sigma a list of FDs\n",
    "# count and fd_list mutable structure to compute\n",
    "def closure_improved_aux(sigma, count, fd_list): \n",
    "    for (i,fd) in enumerate(sigma):\n",
    "        count[i] = len(fd.left)\n",
    "        for att in fd.left:\n",
    "            if not att in fd_list:\n",
    "                fd_list[att] = []\n",
    "            fd_list[att].append(i)\n",
    "            \n",
    "    if DEBUG:\n",
    "        for A in fd_list:\n",
    "            print('List['+A+']')\n",
    "            for i in fd_list[A]:\n",
    "                print('\\t'+str(sigma[i]))\n",
    "        print()\n",
    "        for i in range(len(sigma)):\n",
    "            print('count['+str(sigma[i])+'] = '+str(count[i]))\n",
    "        \n",
    "\n",
    "# Improved closure algorithm\n",
    "# With sigma a list of FDs and X a set of attributes\n",
    "def closure_improved(sigma, X):\n",
    "    \n",
    "    # Count is an array which asssociates\n",
    "    # FD's ID to their left member size\n",
    "    count = [0]*len(sigma)\n",
    "    \n",
    "    # fd_list in a dictionary that associates\n",
    "    # to an attribute the list of FD's ID\n",
    "    # where it appears on the left\n",
    "    fd_list = {}\n",
    "    \n",
    "    # Initialize both count and fd_list\n",
    "    closure_improved_aux(sigma, count, fd_list)\n",
    "    \n",
    "    closure = set(X)\n",
    "    update = set(X)\n",
    "    \n",
    "    # To solve 4.3 bug\n",
    "    for fd in sigma:\n",
    "        if len(fd.left) == 0:\n",
    "            closure = closure | fd.right\n",
    "            update = update | fd.right\n",
    "    \n",
    "    while len(update) != 0:\n",
    "        A = update.pop()\n",
    "        if DEBUG:\n",
    "            print('Current attribute:', A)\n",
    "            \n",
    "        if not A in fd_list:\n",
    "            continue\n",
    "        \n",
    "        for i in fd_list[A]:\n",
    "            count[i] = count[i]-1\n",
    "            if count[i] == 0:\n",
    "                if DEBUG:\n",
    "                    print('\\t',sigma[i],'becomes empty')\n",
    "                Z = sigma[i].right\n",
    "                # - overloads difference operation\n",
    "                update = update | (Z-closure)\n",
    "                closure = closure | Z\n",
    "    return closure"
   ]
  },
  {
   "cell_type": "code",
   "execution_count": 109,
   "metadata": {
    "collapsed": false
   },
   "outputs": [
    {
     "name": "stdout",
     "output_type": "stream",
     "text": [
      "List[B]\n",
      "\tB A -> C\n",
      "List[A]\n",
      "\tB A -> C\n",
      "\n",
      "count[ -> A] = 0\n",
      "count[B A -> C] = 2\n",
      "Current attribute: B\n",
      "Current attribute: A\n",
      "\t B A -> C becomes empty\n",
      "Current attribute: C\n",
      "B C A\n"
     ]
    }
   ],
   "source": [
    "print(set_to_str(closure_improved(sigma,set(['B']))))"
   ]
  },
  {
   "cell_type": "code",
   "execution_count": 112,
   "metadata": {
    "collapsed": false
   },
   "outputs": [
    {
     "data": {
      "text/plain": [
       "'a b c'"
      ]
     },
     "execution_count": 112,
     "metadata": {},
     "output_type": "execute_result"
    }
   ],
   "source": [
    "' '.join(['a','b','c'])"
   ]
  },
  {
   "cell_type": "code",
   "execution_count": 113,
   "metadata": {
    "collapsed": true
   },
   "outputs": [],
   "source": [
    "a = set(['a','b','c'])"
   ]
  },
  {
   "cell_type": "code",
   "execution_count": 114,
   "metadata": {
    "collapsed": true
   },
   "outputs": [],
   "source": [
    "b = list(a)"
   ]
  },
  {
   "cell_type": "code",
   "execution_count": 115,
   "metadata": {
    "collapsed": false
   },
   "outputs": [
    {
     "data": {
      "text/plain": [
       "['b', 'c', 'a']"
      ]
     },
     "execution_count": 115,
     "metadata": {},
     "output_type": "execute_result"
    }
   ],
   "source": [
    "b"
   ]
  },
  {
   "cell_type": "code",
   "execution_count": 116,
   "metadata": {
    "collapsed": false
   },
   "outputs": [
    {
     "data": {
      "text/plain": [
       "{'a', 'b', 'c'}"
      ]
     },
     "execution_count": 116,
     "metadata": {},
     "output_type": "execute_result"
    }
   ],
   "source": [
    "a"
   ]
  },
  {
   "cell_type": "code",
   "execution_count": 117,
   "metadata": {
    "collapsed": false
   },
   "outputs": [
    {
     "data": {
      "image/png": "[encoded data removed]",
      "text/plain": [
       "<matplotlib.figure.Figure at 0x7fb46c2086a0>"
      ]
     },
     "metadata": {},
     "output_type": "display_data"
    }
   ],
   "source": [
    "import matplotlib.pyplot as plt\n",
    "import numpy as np\n",
    "\n",
    "x = np.array([1, 2, 3, 4, 5])\n",
    "y = np.power(x, 2) # Effectively y = x**2\n",
    "e = np.array([1.5, 2.6, 3.7, 4.6, 5.5])\n",
    "\n",
    "plt.errorbar(x, y, e, linestyle='None', marker='^')\n",
    "\n",
    "plt.show()"
   ]
  },
  {
   "cell_type": "code",
   "execution_count": 118,
   "metadata": {
    "collapsed": true
   },
   "outputs": [],
   "source": [
    "f = open('results.tsv', 'r')\n",
    "l = f.read()\n",
    "f.close()"
   ]
  },
  {
   "cell_type": "code",
   "execution_count": 119,
   "metadata": {
    "collapsed": true
   },
   "outputs": [],
   "source": [
    "l = l.split('\\n')[1:]"
   ]
  },
  {
   "cell_type": "code",
   "execution_count": 130,
   "metadata": {
    "collapsed": false
   },
   "outputs": [],
   "source": [
    "x = set([])\n",
    "y_nlin = {}\n",
    "y_lin = {}\n",
    "\n",
    "for r in l:\n",
    "    ll = r.split('\\t')\n",
    "    if len(ll) != 3:\n",
    "        continue\n",
    "    n = int(ll[0])\n",
    "    x.update([n])\n",
    "    if not n in y_nlin:\n",
    "        y_nlin[n] = []\n",
    "    if not n in y_lin:\n",
    "        y_lin[n] = []\n",
    "    \n",
    "    y_lin[n].append(float(ll[1].replace(\",\",\".\")))\n",
    "    y_nlin[n].append(float(ll[2].replace(\",\",\".\")))\n",
    "\n",
    "for n in y_lin:\n",
    "    y_lin[n] = np.array(y_lin[n])\n",
    "    y_nlin[n] = np.array(y_nlin[n])\n",
    "x = sorted(list(x))"
   ]
  },
  {
   "cell_type": "code",
   "execution_count": 155,
   "metadata": {
    "collapsed": false
   },
   "outputs": [],
   "source": [
    "y_1 = [y_lin[n].mean() for n in x]\n",
    "e_1 = [y_lin[n].std() for n in x]\n",
    "y_2 = [y_nlin[n].mean() for n in x]\n",
    "e_2 = [y_nlin[n].std() for n in x]\n",
    "import pylab"
   ]
  },
  {
   "cell_type": "code",
   "execution_count": 200,
   "metadata": {
    "collapsed": false
   },
   "outputs": [
    {
     "data": {
      "image/png": "[encoded data removed]",
      "text/plain": [
       "<matplotlib.figure.Figure at 0x7fb444162b00>"
      ]
     },
     "metadata": {},
     "output_type": "display_data"
    }
   ],
   "source": [
    "plt.figure(figsize=(15,10))\n",
    "from sklearn.metrics import r2_score\n",
    "\n",
    "fit = np.polyfit(x,y_1,2)\n",
    "fit_fn = np.poly1d(fit)\n",
    "pylab.annotate(fit_fn, xy=(8000, 9.0), xytext=(8000-.4*7000, 10+.4*1),\n",
    "             arrowprops=dict(arrowstyle='->', connectionstyle='arc3,rad=-0.5'))\n",
    "R1 = round(r2_score(y_1, fit_fn(x)),4)\n",
    "plt.plot(x,fit_fn(x),c='b', label='poly fit for naive closure with R^2='+str(R1))\n",
    "plt.errorbar(x, y_1, e_1, linestyle='None', marker='^', label='naive closure',c='b')\n",
    "\n",
    "fit = np.polyfit(x,y_2,2)\n",
    "fit_fn = np.poly1d(fit)\n",
    "R2 = round(r2_score(y_2, fit_fn(x)),4)\n",
    "pylab.annotate(fit_fn, xy=(9700, fit_fn(9700)), xytext=(10000-.4*7000, 2+.4*1),\n",
    "             arrowprops=dict(arrowstyle='->', connectionstyle='arc3,rad=-0.5'))\n",
    "plt.plot(x,fit_fn(x),c='g', label='ploy fit for improved closure with R^2='+str(R2))\n",
    "\n",
    "\n",
    "fit = np.polyfit(x,y_2,1)\n",
    "fit_fn = np.poly1d(fit)\n",
    "R2 = round(r2_score(y_2, fit_fn(x)),4)\n",
    "plt.plot(x,fit_fn(x),c='r', label='linear fit for improved closure with R^2='+str(R2))\n",
    "\n",
    "pylab.annotate(fit_fn, xy=(5000, fit_fn(5000)), xytext=(3000, 4),\n",
    "             arrowprops=dict(arrowstyle='->', connectionstyle='arc3,rad=-0.5'))\n",
    "plt.errorbar(x, y_2, e_2, linestyle='None', marker='^', label='improved closure', c='g')\n",
    "plt.legend()\n",
    "plt.show()"
   ]
  },
  {
   "cell_type": "code",
   "execution_count": null,
   "metadata": {
    "collapsed": true
   },
   "outputs": [],
   "source": []
  }
 ],
 "metadata": {
  "kernelspec": {
   "display_name": "Python 3",
   "language": "python",
   "name": "python3"
  },
  "language_info": {
   "codemirror_mode": {
    "name": "ipython",
    "version": 3
   },
   "file_extension": ".py",
   "mimetype": "text/x-python",
   "name": "python",
   "nbconvert_exporter": "python",
   "pygments_lexer": "ipython3",
   "version": "3.6.0"
  }
 },
 "nbformat": 4,
 "nbformat_minor": 2
}
